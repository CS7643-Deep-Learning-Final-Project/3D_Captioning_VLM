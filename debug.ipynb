{
 "cells": [
  {
   "cell_type": "code",
   "execution_count": 1,
   "id": "28cb0423",
   "metadata": {},
   "outputs": [
    {
     "name": "stdout",
     "output_type": "stream",
     "text": [
      "False\n"
     ]
    }
   ],
   "source": [
    "from huggingface_hub import HfApi\n",
    "\n",
    "api = HfApi()\n",
    "info = api.repo_info(\"tiange/Cap3D\", repo_type=\"dataset\")\n",
    "print(info.private)"
   ]
  },
  {
   "cell_type": "code",
   "execution_count": 1,
   "id": "959a599a",
   "metadata": {},
   "outputs": [
    {
     "name": "stdout",
     "output_type": "stream",
     "text": [
      "['03001627_5ceabffee1c333293002761e7a3ba3bd', 'A modern office chair featuring a plush green fabric upholstery, providing comfort and support. It has a high backrest and cushioned seat, complemented by sleek black armrests. The chair is mounted on a five-point metal base with a light grey finish, equipped with rolling casters for mobility. The design seamlessly blends durability with contemporary style.']\n",
      "[{'03001627_5ceabffee1c333293002761e7a3ba3bd': '04090263_4ce26b6d23caecb3cc34b900bb2492e', 'A modern office chair featuring a plush green fabric upholstery, providing comfort and support. It has a high backrest and cushioned seat, complemented by sleek black armrests. The chair is mounted on a five-point metal base with a light grey finish, equipped with rolling casters for mobility. The design seamlessly blends durability with contemporary style.': 'A modern tactical rifle featuring an ergonomic design with a black matte finish, a prominent barrel, and a detachable magazine. It includes a folding stock for compactness, alongside a rail system for mounting accessories, such as sights or grips. The grip exhibits a textured surface for enhanced handling, and it has an angled foregrip for improved stability during use. Various optical attachments are integrated for aiming precision.'}, {'03001627_5ceabffee1c333293002761e7a3ba3bd': '03001627_7178731312819be3ecb14096838a20c5', 'A modern office chair featuring a plush green fabric upholstery, providing comfort and support. It has a high backrest and cushioned seat, complemented by sleek black armrests. The chair is mounted on a five-point metal base with a light grey finish, equipped with rolling casters for mobility. The design seamlessly blends durability with contemporary style.': \"A modern chair featuring a sleek design with a rich, dark wood seat and backrest. The chair's structure consists of curvilinear white legs and a supportive footrest. The blend of materials emphasizes a contemporary aesthetic, combining warm wood tones with a crisp white finish, creating visual contrast and elegance.\"}]\n"
     ]
    }
   ],
   "source": [
    "from huggingface_hub import hf_hub_download\n",
    "import pandas as pd\n",
    "csv_path = hf_hub_download(repo_id=\"tiange/Cap3D\", filename=\"Cap3D_automated_ShapeNet.csv\", repo_type=\"dataset\")\n",
    "df = pd.read_csv(csv_path, low_memory=False)\n",
    "print(df.columns.tolist()[:50])  # inspect\n",
    "print(df.head(2).to_dict(orient=\"records\"))\n"
   ]
  },
  {
   "cell_type": "code",
   "execution_count": 1,
   "id": "ce2aba30",
   "metadata": {},
   "outputs": [
    {
     "name": "stdout",
     "output_type": "stream",
     "text": [
      "Loaded index type: <class 'dict'>\n",
      "Total entries: 1\n",
      "\n",
      "[0] UID key: compressed_pcs_00\n",
      "Value: ['03636649_57aa536c02ea697b2195f9e636aede6a', '04468005_59b884e12684b48b1b2cfb60d91b4238', '02871439_1b35d8bb3a01668f6fa63795f94c4d8c', '03636649_1d5ed34e8ccd86a88c94c2386714981e', '02808440_e5a1ff704398c55ede9471c962dd6ba', '03001627_99